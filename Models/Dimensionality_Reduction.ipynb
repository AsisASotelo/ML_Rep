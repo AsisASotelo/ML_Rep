{
 "metadata": {
  "language_info": {
   "codemirror_mode": {
    "name": "ipython",
    "version": 3
   },
   "file_extension": ".py",
   "mimetype": "text/x-python",
   "name": "python",
   "nbconvert_exporter": "python",
   "pygments_lexer": "ipython3",
   "version": "3.7.7-final"
  },
  "orig_nbformat": 2,
  "kernelspec": {
   "name": "tensorflow",
   "display_name": "tensorflow"
  }
 },
 "nbformat": 4,
 "nbformat_minor": 2,
 "cells": [
  {
   "source": [
    "# Dimensionality Reductions"
   ],
   "cell_type": "markdown",
   "metadata": {}
  },
  {
   "cell_type": "code",
   "execution_count": 3,
   "metadata": {},
   "outputs": [
    {
     "output_type": "execute_result",
     "data": {
      "text/plain": [
       "<module 'pandas._version' from '/Users/asisasotelo/opt/anaconda3/envs/tensorflow/lib/python3.7/site-packages/pandas/_version.py'>"
      ]
     },
     "metadata": {},
     "execution_count": 3
    }
   ],
   "source": [
    "## IMPORTS \n",
    "\n",
    "import numpy as numpy\n",
    "import pandas as pd \n",
    "import matplotlib as plt\n",
    "\n",
    "pd._version\n"
   ]
  },
  {
   "source": [
    "The number of features in a model can significantly increase the necessary computation time. To increase performance reduction of features while maintaining information important to model prediction accuracy we must develop methods to reduce dimensionality."
   ],
   "cell_type": "markdown",
   "metadata": {}
  },
  {
   "source": [
    "** Warning ** \n",
    "You should always try to maintain your original data, only until you have exhausted your ability to find your solution should you seek to reduce the dimensionlity of the data."
   ],
   "cell_type": "markdown",
   "metadata": {}
  },
  {
   "cell_type": "code",
   "execution_count": null,
   "metadata": {},
   "outputs": [],
   "source": []
  }
 ]
}
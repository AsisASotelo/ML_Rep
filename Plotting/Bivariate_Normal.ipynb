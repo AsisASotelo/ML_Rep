{
 "cells": [
  {
   "cell_type": "markdown",
   "metadata": {},
   "source": [
    "# Bivariate Normal Graph"
   ]
  },
  {
   "cell_type": "markdown",
   "metadata": {},
   "source": [
    "The Bivariate Normal distribution is defined as the following"
   ]
  },
  {
   "cell_type": "markdown",
   "metadata": {},
   "source": [
    "$$ f_{X,Y}(x,y) = \\frac{1}{2\\pi \\tau} e^{-\\frac{1}{2 \\pi \\tau^2}(x^2 + y^2 - \\rho xy )\n",
    "}$$"
   ]
  },
  {
   "cell_type": "markdown",
   "metadata": {},
   "source": [
    "## Matplot Lib"
   ]
  },
  {
   "cell_type": "code",
   "execution_count": 4,
   "metadata": {},
   "outputs": [],
   "source": [
    "import numpy\n",
    "import math"
   ]
  },
  {
   "cell_type": "markdown",
   "metadata": {},
   "source": [
    "### No Numpy"
   ]
  },
  {
   "cell_type": "code",
   "execution_count": 5,
   "metadata": {},
   "outputs": [],
   "source": [
    "domain= 6\n",
    "mean = 4\n",
    "variance= .25\n",
    "\n",
    "X = [[-mean+x*variance for x in range(int((-domain+mean)//variance), \n",
    "                                                   int((domain+mean)//variance)+1)] \n",
    "                  for _ in range(int((-domain+mean)//variance), \n",
    "                                 int((domain+mean)//variance)+1)]\n",
    "Y = [*map(list, zip(*X))]\n",
    "R = [[math.sqrt(a**2 + b**2) for a, b in zip(c, d)] for c, d in zip(X, Y)]\n",
    "Z = [[(1. / math.sqrt(2 * math.pi)) * math.exp(-.5*r**2) for r in r_sub] for r_sub in R]\n",
    "X = [*map(lambda a: [b+mean for b in a], X)]\n",
    "Y = [*map(lambda a: [b+mean for b in a], Y)]\n",
    "\n"
   ]
  },
  {
   "cell_type": "code",
   "execution_count": 13,
   "metadata": {},
   "outputs": [
    {
     "name": "stdout",
     "output_type": "stream",
     "text": [
      "[8.48528137423857, 8.31038506929733, 8.139410298049853, 7.9726093595509875, 7.810249675906654, 7.652613932506983, 7.5, 7.352720584926371, 7.211102550927978, 7.075485849042453, 6.946221994724902, 6.823672031978091, 6.708203932499369, 6.600189391222043, 6.5, 6.408002808988148, 6.324555320336759, 6.25, 6.18465843842649, 6.128825336065631, 6.082762530298219, 6.046693311223912, 6.020797289396148, 6.005206074732157, 6.0, 6.005206074732157, 6.020797289396148, 6.046693311223912, 6.082762530298219, 6.128825336065631, 6.18465843842649, 6.25, 6.324555320336759, 6.408002808988148, 6.5, 6.600189391222043, 6.708203932499369, 6.823672031978091, 6.946221994724902, 7.075485849042453, 7.211102550927978, 7.352720584926371, 7.5, 7.652613932506983, 7.810249675906654, 7.9726093595509875, 8.139410298049853, 8.31038506929733, 8.48528137423857]\n"
     ]
    }
   ],
   "source": []
  },
  {
   "cell_type": "markdown",
   "metadata": {},
   "source": [
    "### With Numpy"
   ]
  },
  {
   "cell_type": "code",
   "execution_count": null,
   "metadata": {},
   "outputs": [],
   "source": [
    "import numpy as np\n",
    "\n",
    "def np_bivariate_normal_pdf()"
   ]
  }
 ],
 "metadata": {
  "kernelspec": {
   "display_name": "tensorflow",
   "language": "python",
   "name": "tensorflow"
  },
  "language_info": {
   "codemirror_mode": {
    "name": "ipython",
    "version": 3
   },
   "file_extension": ".py",
   "mimetype": "text/x-python",
   "name": "python",
   "nbconvert_exporter": "python",
   "pygments_lexer": "ipython3",
   "version": "3.7.7"
  }
 },
 "nbformat": 4,
 "nbformat_minor": 4
}

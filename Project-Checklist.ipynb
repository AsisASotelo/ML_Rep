{
 "cells": [
  {
   "cell_type": "markdown",
   "metadata": {},
   "source": [
    "# Project Checklist\n"
   ]
  },
  {
   "cell_type": "markdown",
   "metadata": {},
   "source": [
    "## Frame the Problem and Look at the Big Picture"
   ]
  },
  {
   "cell_type": "markdown",
   "metadata": {},
   "source": [
    "1. Define the objective in business terms\n",
    "2. How will your solution be used?\n",
    "3. What are the current solutions/workarounds (if any) ?\n",
    "4. How should you frame this problem (supervised/unsupervised, online/offline.\n",
    "etc.)?\n",
    "5. How should performance be measured?\n",
    "6. Is the performance measure aligned with the business objective?\n",
    "7. What would be the minimum performance needed to reach the business objec‐\n",
    "tive?\n",
    "8. What are comparable problems? Can you reuse experience or tools?8.\n",
    "9. Is human expertise available?9.\n",
    "10. How would you solve the problem manually?10.\n",
    "11. List the assumptions you (or others) have made so far.11.\n",
    "12. Verify assumptions if possible."
   ]
  },
  {
   "cell_type": "markdown",
   "metadata": {},
   "source": [
    "## Get the Data"
   ]
  },
  {
   "cell_type": "markdown",
   "metadata": {},
   "source": [
    "Note: automate as much as possible so you can easily get fresh data.\n",
    "1. List the data you need and how much you need.1.\n",
    "2. Find and document where you can get that data.2.\n",
    "3. Check how much space it will take.3.\n",
    "4. Check legal obligations, and get authorization if necessary.4.\n",
    "5. Get access authorizations.5.\n",
    "6. Create a workspace (with enough storage space).6.\n",
    "7. Get the data.7.\n",
    "8. Convert the data to a format you can easily manipulate (without changing the8.\n",
    "data itself).\n",
    "9. Ensure sensitive information is deleted or protected (e.g., anonymized).9.\n",
    "10. Check the size and type of data (time series, sample, geographical, etc.).10.\n",
    "11. Sample a test set, put it aside, and never look at it (no data snooping!)."
   ]
  },
  {
   "cell_type": "markdown",
   "metadata": {
    "vscode": {
     "languageId": "plaintext"
    }
   },
   "source": [
    "## Explore the Data"
   ]
  },
  {
   "cell_type": "code",
   "execution_count": null,
   "metadata": {
    "vscode": {
     "languageId": "plaintext"
    }
   },
   "outputs": [],
   "source": [
    "Create a copy of the data for exploration (sampling it down to a manageable size\n",
    "if necessary).\n",
    "2. Create a Jupyter notebook to keep a record of your data exploration.\n",
    "3. Study each attribute and its characteristics:\n",
    "• Name•\n",
    "• Type (categorical, int/float, bounded/unbounded, text, structured, etc.)\n",
    "• % of missing values\n",
    "• Noisiness and type of noise (stochastic, outliers, rounding errors, etc.)•\n",
    "• Usefulness for the task•\n",
    "• Type of distribution (Gaussian, uniform, logarithmic, etc.)•\n",
    "4. For supervised learning tasks, identify the target attribute(s).\n",
    "5. Visualize the data.\n",
    "6. Study the correlations between attributes.\n",
    "7. Study how you would solve the problem manually.\n",
    "8. Identify the promising transformations you may want to apply.\n",
    "9. Identify extra data that would be useful (go back to “Get the Data” on page 780)\n",
    "10. Document what you have learn"
   ]
  },
  {
   "cell_type": "markdown",
   "metadata": {
    "vscode": {
     "languageId": "plaintext"
    }
   },
   "source": [
    "## Prepare the Data"
   ]
  },
  {
   "cell_type": "markdown",
   "metadata": {},
   "source": [
    "Notes:\n",
    "• Work on copies of the data (keep the original dataset intact).•\n",
    "• Write functions for all data transformations you apply, for five reasons:•\n",
    "— So you can easily prepare the data the next time you get a fresh dataset—\n",
    "— So you can apply these transformations in future projects—\n",
    "— To clean and prepare the test set—\n",
    "— To clean and prepare new data instances once your solution is live—\n",
    "— To make it easy to treat your preparation choices as hyperparameters—\n",
    "1. Clean the data:\n",
    "- Fix or remove outliers (optional).•\n",
    "- Fill in missing values (e.g., with zero, mean, median…) or drop their rows (or•\n",
    "columns).\n",
    "2. Perform feature selection (optional):\n",
    "- Drop the attributes that provide no useful information for the task.•\n",
    "3. Perform feature engineering, where appropriate:\n",
    "- Discretize continuous features.•\n",
    "- Decompose features (e.g., categorical, date/time, etc.).•\n",
    "- Add promising transformations of features (e.g., log(x), sqrt(x), x2, etc.).•\n",
    "- Aggregate features into promising new features.\n",
    "4. Perform feature scaling:\n",
    "    - Standardize or normalize features."
   ]
  },
  {
   "cell_type": "markdown",
   "metadata": {},
   "source": []
  }
 ],
 "metadata": {
  "language_info": {
   "name": "python"
  }
 },
 "nbformat": 4,
 "nbformat_minor": 2
}

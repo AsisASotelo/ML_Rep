{
 "metadata": {
  "language_info": {
   "codemirror_mode": {
    "name": "ipython",
    "version": 3
   },
   "file_extension": ".py",
   "mimetype": "text/x-python",
   "name": "python",
   "nbconvert_exporter": "python",
   "pygments_lexer": "ipython3",
   "version": "3.7.6-final"
  },
  "orig_nbformat": 2,
  "kernelspec": {
   "name": "python3",
   "display_name": "Python 3",
   "language": "python"
  }
 },
 "nbformat": 4,
 "nbformat_minor": 2,
 "cells": [
  {
   "source": [
    "# Importing Files"
   ],
   "cell_type": "markdown",
   "metadata": {}
  },
  {
   "cell_type": "code",
   "execution_count": 6,
   "metadata": {},
   "outputs": [],
   "source": [
    "#!wget ftp://ftp.ncdc.noaa.gov/pub/data/ghcn/v4/ghcnm.latest.qcu.tar.gz\n",
    "\n"
   ]
  },
  {
   "cell_type": "code",
   "execution_count": 3,
   "metadata": {},
   "outputs": [],
   "source": [
    "# Import Packages\n",
    "\n",
    "import pandas as pd \n",
    "\n",
    "# Options \n",
    "\n",
    "pd.options.display.float_format='{:,.2f}'.format\n",
    "pd.set_option('display.width',85)\n",
    "pd.set_option('display.max_columns',8)"
   ]
  },
  {
   "cell_type": "code",
   "execution_count": 15,
   "metadata": {},
   "outputs": [],
   "source": [
    "\n",
    "# Reading file locally\n",
    "\n",
    "landtemps = pd.read_csv('../../Datasets/landtempssample.csv',\n",
    "                        names=['stationid','year','month','avgtemp','latitude',\n",
    "                        'longitude','elevation','station','countryid','country'],\n",
    "                        skiprows=1,\n",
    "                        parse_dates=[['month','year']],\n",
    "                        low_memory=False\n",
    "\n",
    "    \n",
    "    )"
   ]
  },
  {
   "cell_type": "code",
   "execution_count": 20,
   "metadata": {},
   "outputs": [
    {
     "output_type": "execute_result",
     "data": {
      "text/plain": [
       "  month_year    stationid  avgtemp  latitude  ...  elevation           station  \\\n",
       "0 2000-04-01  USS0010K01S     5.27     39.90  ...   2,773.70     INDIAN_CANYON   \n",
       "1 1940-05-01  CI000085406    18.04    -18.35  ...      58.00             ARICA   \n",
       "2 2013-12-01  USC00036376     6.22     34.37  ...      61.00     SAINT_CHARLES   \n",
       "3 1963-02-01  ASN00024002    22.93    -34.28  ...      65.50  BERRI_IRRIGATION   \n",
       "4 2001-11-01  ASN00028007      nan    -14.78  ...      79.40          MUSGRAVE   \n",
       "5 1991-04-01  USW00024151     5.59     42.15  ...   1,362.50        MALAD_CITY   \n",
       "6 1993-12-01  RSM00022641   -10.17     63.90  ...      13.00             ONEGA   \n",
       "\n",
       "  countryid        country  \n",
       "0        US  United States  \n",
       "1        CI          Chile  \n",
       "2        US  United States  \n",
       "3        AS      Australia  \n",
       "4        AS      Australia  \n",
       "5        US  United States  \n",
       "6        RS         Russia  \n",
       "\n",
       "[7 rows x 9 columns]"
      ],
      "text/html": "<div>\n<style scoped>\n    .dataframe tbody tr th:only-of-type {\n        vertical-align: middle;\n    }\n\n    .dataframe tbody tr th {\n        vertical-align: top;\n    }\n\n    .dataframe thead th {\n        text-align: right;\n    }\n</style>\n<table border=\"1\" class=\"dataframe\">\n  <thead>\n    <tr style=\"text-align: right;\">\n      <th></th>\n      <th>month_year</th>\n      <th>stationid</th>\n      <th>avgtemp</th>\n      <th>latitude</th>\n      <th>...</th>\n      <th>elevation</th>\n      <th>station</th>\n      <th>countryid</th>\n      <th>country</th>\n    </tr>\n  </thead>\n  <tbody>\n    <tr>\n      <th>0</th>\n      <td>2000-04-01</td>\n      <td>USS0010K01S</td>\n      <td>5.27</td>\n      <td>39.90</td>\n      <td>...</td>\n      <td>2,773.70</td>\n      <td>INDIAN_CANYON</td>\n      <td>US</td>\n      <td>United States</td>\n    </tr>\n    <tr>\n      <th>1</th>\n      <td>1940-05-01</td>\n      <td>CI000085406</td>\n      <td>18.04</td>\n      <td>-18.35</td>\n      <td>...</td>\n      <td>58.00</td>\n      <td>ARICA</td>\n      <td>CI</td>\n      <td>Chile</td>\n    </tr>\n    <tr>\n      <th>2</th>\n      <td>2013-12-01</td>\n      <td>USC00036376</td>\n      <td>6.22</td>\n      <td>34.37</td>\n      <td>...</td>\n      <td>61.00</td>\n      <td>SAINT_CHARLES</td>\n      <td>US</td>\n      <td>United States</td>\n    </tr>\n    <tr>\n      <th>3</th>\n      <td>1963-02-01</td>\n      <td>ASN00024002</td>\n      <td>22.93</td>\n      <td>-34.28</td>\n      <td>...</td>\n      <td>65.50</td>\n      <td>BERRI_IRRIGATION</td>\n      <td>AS</td>\n      <td>Australia</td>\n    </tr>\n    <tr>\n      <th>4</th>\n      <td>2001-11-01</td>\n      <td>ASN00028007</td>\n      <td>nan</td>\n      <td>-14.78</td>\n      <td>...</td>\n      <td>79.40</td>\n      <td>MUSGRAVE</td>\n      <td>AS</td>\n      <td>Australia</td>\n    </tr>\n    <tr>\n      <th>5</th>\n      <td>1991-04-01</td>\n      <td>USW00024151</td>\n      <td>5.59</td>\n      <td>42.15</td>\n      <td>...</td>\n      <td>1,362.50</td>\n      <td>MALAD_CITY</td>\n      <td>US</td>\n      <td>United States</td>\n    </tr>\n    <tr>\n      <th>6</th>\n      <td>1993-12-01</td>\n      <td>RSM00022641</td>\n      <td>-10.17</td>\n      <td>63.90</td>\n      <td>...</td>\n      <td>13.00</td>\n      <td>ONEGA</td>\n      <td>RS</td>\n      <td>Russia</td>\n    </tr>\n  </tbody>\n</table>\n<p>7 rows × 9 columns</p>\n</div>"
     },
     "metadata": {},
     "execution_count": 20
    }
   ],
   "source": [
    "landtemps.head(7)"
   ]
  },
  {
   "cell_type": "code",
   "execution_count": null,
   "metadata": {},
   "outputs": [],
   "source": []
  }
 ]
}